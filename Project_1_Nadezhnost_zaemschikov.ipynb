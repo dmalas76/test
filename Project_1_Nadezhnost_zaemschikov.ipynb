{
 "cells": [
  {
   "cell_type": "markdown",
   "metadata": {},
   "source": [
    "## Исследование надёжности заёмщиков\n",
    "\n",
    "Заказчик — кредитный отдел банка. Нужно разобраться, влияет ли семейное положение и количество детей клиента на факт погашения кредита в срок. Входные данные от банка — статистика о платёжеспособности клиентов.\n",
    "\n",
    "Результаты исследования будут учтены при построении модели **кредитного скоринга** — специальной системы, которая оценивает способность потенциального заёмщика вернуть кредит банку."
   ]
  },
  {
   "cell_type": "markdown",
   "metadata": {},
   "source": [
    "### Шаг 1. Изучение общей информации о базе данных."
   ]
  },
  {
   "cell_type": "code",
   "execution_count": 1,
   "metadata": {},
   "outputs": [],
   "source": [
    "import pandas as pd"
   ]
  },
  {
   "cell_type": "code",
   "execution_count": 2,
   "metadata": {},
   "outputs": [],
   "source": [
    "df = pd.read_csv('/datasets/data.csv')"
   ]
  },
  {
   "cell_type": "code",
   "execution_count": 3,
   "metadata": {},
   "outputs": [
    {
     "name": "stdout",
     "output_type": "stream",
     "text": [
      "<class 'pandas.core.frame.DataFrame'>\n",
      "RangeIndex: 21525 entries, 0 to 21524\n",
      "Data columns (total 12 columns):\n",
      "children            21525 non-null int64\n",
      "days_employed       19351 non-null float64\n",
      "dob_years           21525 non-null int64\n",
      "education           21525 non-null object\n",
      "education_id        21525 non-null int64\n",
      "family_status       21525 non-null object\n",
      "family_status_id    21525 non-null int64\n",
      "gender              21525 non-null object\n",
      "income_type         21525 non-null object\n",
      "debt                21525 non-null int64\n",
      "total_income        19351 non-null float64\n",
      "purpose             21525 non-null object\n",
      "dtypes: float64(2), int64(5), object(5)\n",
      "memory usage: 2.0+ MB\n"
     ]
    }
   ],
   "source": [
    "# изучим общую информацию:\n",
    "#df.head()\n",
    "df.info()\n",
    "#df.duplicated().sum()\n",
    "#df['children'].value_counts()\n",
    "#df[df['days_employed']<0]['days_employed'].count()\n",
    "#df[-df['days_employed']>(df['dob_years']-14)*365].count()\n",
    "#df['dob_years'].value_counts()\n",
    "#df[df['dob_years'] < 14]['dob_years'].count()\n",
    "#df[df['dob_years'] > 120]['dob_years'].count()\n",
    "#df['education'].value_counts()\n",
    "#df['education_id'].value_counts()\n",
    "#df['family_status'].value_counts()\n",
    "#df['family_status_id'].value_counts()\n",
    "#df['gender'].value_counts()\n",
    "#df['income_type'].value_counts()\n",
    "#df[df['total_income']<0]['total_income'].count()\n",
    "#df['debt'].value_counts()\n",
    "#df['purpose'].value_counts()"
   ]
  },
  {
   "cell_type": "markdown",
   "metadata": {},
   "source": [
    "### Вывод"
   ]
  },
  {
   "cell_type": "markdown",
   "metadata": {},
   "source": [
    "При изучении таблицы df было обнаружено, что:\n",
    "- Имеются явные пропуски значений 'days_employed' и 'total_income' для ряда заемщиков.\n",
    "- Таблица содержит дупликаты строк.\n",
    "- Имееются негативные (-1) и явно ошибочные (20) значения 'children'.\n",
    "- Имeются негативные и явно ошибочные (стаж больше возраста за вычетом 14 лет) значения 'days_employed'.\n",
    "- 'days_employed' и 'total_income' представлены с излишним количеством знаков после запятой.\n",
    "- Имеются явно ошибочные (<14) значения 'dob_years'.\n",
    "- Одинаковые значения 'education' записаны в разных регистрах.\n",
    "- При записи значений 'family_status' использованы различные регистры.\n",
    "- Столбец 'gender' в одной из строк содержит явно ошибочное значение 'XNA'.\n",
    "- 'purpose' содержит смысловые дупликаты."
   ]
  },
  {
   "cell_type": "markdown",
   "metadata": {},
   "source": [
    "### Шаг 1а. Обработка дупликатов строк\n",
    "\n",
    "Т.к. в дальнейшем предполагается обработка пропусков с использованием медианных значений, то необходимо предварительно обработать дупликаты строк."
   ]
  },
  {
   "cell_type": "code",
   "execution_count": 4,
   "metadata": {},
   "outputs": [
    {
     "data": {
      "text/plain": [
       "0"
      ]
     },
     "execution_count": 4,
     "metadata": {},
     "output_type": "execute_result"
    }
   ],
   "source": [
    "df = df.drop_duplicates().reset_index(drop=True)\n",
    "df.duplicated().sum()"
   ]
  },
  {
   "cell_type": "markdown",
   "metadata": {},
   "source": [
    "### Шаг 2. Предобработка данных"
   ]
  },
  {
   "cell_type": "markdown",
   "metadata": {},
   "source": [
    "### Обработка пропусков"
   ]
  },
  {
   "cell_type": "code",
   "execution_count": 5,
   "metadata": {},
   "outputs": [
    {
     "name": "stdout",
     "output_type": "stream",
     "text": [
      "<class 'pandas.core.frame.DataFrame'>\n",
      "Int64Index: 21394 entries, 0 to 21470\n",
      "Data columns (total 12 columns):\n",
      "children            21394 non-null int64\n",
      "days_employed       21394 non-null float64\n",
      "dob_years           21394 non-null int64\n",
      "education           21394 non-null object\n",
      "education_id        21394 non-null int64\n",
      "family_status       21394 non-null object\n",
      "family_status_id    21394 non-null int64\n",
      "gender              21394 non-null object\n",
      "income_type         21394 non-null object\n",
      "debt                21394 non-null int64\n",
      "total_income        21394 non-null float64\n",
      "purpose             21394 non-null object\n",
      "dtypes: float64(2), int64(5), object(5)\n",
      "memory usage: 2.1+ MB\n"
     ]
    }
   ],
   "source": [
    "# сначала обработаем пропуски в 'dob_years'. хотя явных пропусков в этом столбце обнаружено не было, но имеются значения\n",
    "# менее 14 лет.заменим эти значения на средний возраст заемщиков.\n",
    "\n",
    "# средний возраст заемщиков за исключением пенсионеров:\n",
    "mean_age = df[(df['dob_years']>=14)&(df['income_type']!='пенсионер')]['dob_years'].mean()\n",
    "# средний возраст пенсионеров:\n",
    "mean_age_rtd = df[(df['dob_years']>=14)&(df['income_type']=='пенсионер')]['dob_years'].mean()\n",
    "# заменим 'dob_years'<14 непенсионеров на средний возраст:\n",
    "df.loc[(df['dob_years']<14)&(df['income_type']!='пенсионер'),'dob_years'] = df[df['dob_years']<14]['dob_years'].replace(df['dob_years'],mean_age)\n",
    "# заменим 'dob_years'<14 пенсионеров на средний возраст:\n",
    "df.loc[(df['dob_years']<14)&(df['income_type']=='пенсионер'),'dob_years'] = df[df['dob_years']<14]['dob_years'].replace(df['dob_years'],mean_age_rtd)\n",
    "# перейдем к целочисленным значениям 'dob_years':\n",
    "df['dob_years'] = df['dob_years'].astype('int64')\n",
    "\n",
    "# обработаем пропуски в 'days_employed':\n",
    "\n",
    "# перейдем к абсолютным (положительным значениям) 'days_employed':\n",
    "df['days_employed']=pd.to_numeric(df['days_employed'],errors='coerce')\n",
    "df['days_employed']=df['days_employed'].abs()\n",
    "# заменим пропущенные и явно ошибочные (превышающие возраст за вычетом 14 лет) значения стажа на 0:\n",
    "df.loc[(df['days_employed']>((df['dob_years']-14)*365)),'days_employed'] = df[df['days_employed']>(df['dob_years']-14)*365]['days_employed'].replace(df['days_employed'],0)\n",
    "df['days_employed']=df['days_employed'].fillna(0)\n",
    "\n",
    "# заменим значения стажа =0 на среднее значение для соответствующего возраста:\n",
    "for row in range(len(df)):\n",
    "    age = df.loc[row,'dob_years']\n",
    "    de = df.loc[row,'days_employed']\n",
    "    max_de = (age-14)*365\n",
    "    if de == 0:\n",
    "        mean_de = df[(df['dob_years']==age)&(df['days_employed']<=max_de)]['days_employed'].mean()\n",
    "        df.at[row,'days_employed'] = mean_de        \n",
    "\n",
    "# обработаем пропуски в 'total_income'\n",
    "        \n",
    "# медианный доход заемщиков за исключением пенсионеров:\n",
    "median_income = df[df['income_type']!='пенсионер']['total_income'].median()\n",
    "# медианный доход пенсионеров:\n",
    "median_income_rtd = df[df['income_type']=='пенсионер']['total_income'].median()\n",
    "# заменим пропуски 'total_income' непенсионеров на медианный доход:\n",
    "df.loc[df['income_type']!='пенсионер','total_income'] = df[df['income_type']!='пенсионер']['total_income'].fillna(median_income)\n",
    "# заменим пропуски 'total_income' пенсионеров на медианный доход:\n",
    "df.loc[df['income_type']=='пенсионер','total_income'] = df[df['income_type']=='пенсионер']['total_income'].fillna(median_income_rtd)\n",
    "\n",
    "# обработаем пропуски в 'children'. хотя явных пропусков в этом столбце обнаружено не было, но имеется 47 отрицательных (-1)\n",
    "# и 76 явно ошибочных (20) значений.\n",
    "\n",
    "# перейдем к абсолютым (положительным значениям) 'children':\n",
    "df['children'] = df['children'].abs()\n",
    "# удалим строки таблицы с явно ошибочными (20) значениями 'children':\n",
    "df = df[df['children'] != 20]\n",
    "\n",
    "# обработаем пропуски в 'gender' - удалим строку со значением 'XNA' (такая строка одна):\n",
    "df = df[df['gender'] != 'XNA']\n",
    "\n",
    "df.info()"
   ]
  },
  {
   "cell_type": "markdown",
   "metadata": {},
   "source": [
    "### Вывод"
   ]
  },
  {
   "cell_type": "markdown",
   "metadata": {},
   "source": [
    "В этом разделе мы обработали пропуски и явно ошибочные значения данных. При обработке использовали следующие допущения:\n",
    "- Минимальный возраст заключения трудового и кредитного договора не может быть менее 14 лет.\n",
    "- Количество заемщиков типов занятости \"безработный\", \"предприниматель\", \"студент\" и \"в декрете\" пренебрежимо мало (2, 2, 1 и 1 соответсвенно) в сравнении с общим количеством наблюдений и может быть рассмотрено в одной группе с другими типами занятости за исключением пенсионеров.\n",
    "- Средний возраст и медианный доход пенсионеров существенно отличается от заемщиков других типов занятости.\n",
    "- Явно ошибочные значения возраста были заменены на средние значения (непенсионеры и пенсионеры отдельно).\n",
    "- Явно ошибочные и пропущенные значения стажа были заменены на средние значения для соответсвующего возраста.\n",
    "- Пропущенные значения дохода были заменены на медианные значения (непенсионеры и пенсионеры отдельно).\n",
    "- Отрицательные значения количества детей являются ошибочной записью соответствующей положительной величины.\n",
    "- Количество детей =20 у 76 заемщиков явно не соответсвует статистическим данным и, вероятно, является опечаткой клавиш 2 и 0. Т.к. факт наличия детей является существенной информацией для решения данной задачи, то было решено удалить строки с данной неопределенностью. Количество удаленных строк составляет несущественную долю от общего числа наблюдений.\n",
    "- Значение пола 'XNA' было решено считать пропуском, строка (она одна) была удалена."
   ]
  },
  {
   "cell_type": "markdown",
   "metadata": {},
   "source": [
    "### Замена типа данных"
   ]
  },
  {
   "cell_type": "code",
   "execution_count": 6,
   "metadata": {},
   "outputs": [
    {
     "data": {
      "text/html": [
       "<div>\n",
       "<style scoped>\n",
       "    .dataframe tbody tr th:only-of-type {\n",
       "        vertical-align: middle;\n",
       "    }\n",
       "\n",
       "    .dataframe tbody tr th {\n",
       "        vertical-align: top;\n",
       "    }\n",
       "\n",
       "    .dataframe thead th {\n",
       "        text-align: right;\n",
       "    }\n",
       "</style>\n",
       "<table border=\"1\" class=\"dataframe\">\n",
       "  <thead>\n",
       "    <tr style=\"text-align: right;\">\n",
       "      <th></th>\n",
       "      <th>children</th>\n",
       "      <th>days_employed</th>\n",
       "      <th>dob_years</th>\n",
       "      <th>education</th>\n",
       "      <th>education_id</th>\n",
       "      <th>family_status</th>\n",
       "      <th>family_status_id</th>\n",
       "      <th>gender</th>\n",
       "      <th>income_type</th>\n",
       "      <th>debt</th>\n",
       "      <th>total_income</th>\n",
       "      <th>purpose</th>\n",
       "    </tr>\n",
       "  </thead>\n",
       "  <tbody>\n",
       "    <tr>\n",
       "      <td>0</td>\n",
       "      <td>1</td>\n",
       "      <td>8437</td>\n",
       "      <td>42</td>\n",
       "      <td>высшее</td>\n",
       "      <td>0</td>\n",
       "      <td>женат / замужем</td>\n",
       "      <td>0</td>\n",
       "      <td>F</td>\n",
       "      <td>сотрудник</td>\n",
       "      <td>0</td>\n",
       "      <td>253875</td>\n",
       "      <td>покупка жилья</td>\n",
       "    </tr>\n",
       "    <tr>\n",
       "      <td>1</td>\n",
       "      <td>1</td>\n",
       "      <td>4024</td>\n",
       "      <td>36</td>\n",
       "      <td>среднее</td>\n",
       "      <td>1</td>\n",
       "      <td>женат / замужем</td>\n",
       "      <td>0</td>\n",
       "      <td>F</td>\n",
       "      <td>сотрудник</td>\n",
       "      <td>0</td>\n",
       "      <td>112080</td>\n",
       "      <td>приобретение автомобиля</td>\n",
       "    </tr>\n",
       "    <tr>\n",
       "      <td>2</td>\n",
       "      <td>0</td>\n",
       "      <td>5623</td>\n",
       "      <td>33</td>\n",
       "      <td>Среднее</td>\n",
       "      <td>1</td>\n",
       "      <td>женат / замужем</td>\n",
       "      <td>0</td>\n",
       "      <td>M</td>\n",
       "      <td>сотрудник</td>\n",
       "      <td>0</td>\n",
       "      <td>145885</td>\n",
       "      <td>покупка жилья</td>\n",
       "    </tr>\n",
       "    <tr>\n",
       "      <td>3</td>\n",
       "      <td>3</td>\n",
       "      <td>4124</td>\n",
       "      <td>32</td>\n",
       "      <td>среднее</td>\n",
       "      <td>1</td>\n",
       "      <td>женат / замужем</td>\n",
       "      <td>0</td>\n",
       "      <td>M</td>\n",
       "      <td>сотрудник</td>\n",
       "      <td>0</td>\n",
       "      <td>267628</td>\n",
       "      <td>дополнительное образование</td>\n",
       "    </tr>\n",
       "    <tr>\n",
       "      <td>4</td>\n",
       "      <td>0</td>\n",
       "      <td>2184</td>\n",
       "      <td>53</td>\n",
       "      <td>среднее</td>\n",
       "      <td>1</td>\n",
       "      <td>гражданский брак</td>\n",
       "      <td>1</td>\n",
       "      <td>F</td>\n",
       "      <td>пенсионер</td>\n",
       "      <td>0</td>\n",
       "      <td>158616</td>\n",
       "      <td>сыграть свадьбу</td>\n",
       "    </tr>\n",
       "  </tbody>\n",
       "</table>\n",
       "</div>"
      ],
      "text/plain": [
       "   children  days_employed  dob_years education  education_id  \\\n",
       "0         1           8437         42    высшее             0   \n",
       "1         1           4024         36   среднее             1   \n",
       "2         0           5623         33   Среднее             1   \n",
       "3         3           4124         32   среднее             1   \n",
       "4         0           2184         53   среднее             1   \n",
       "\n",
       "      family_status  family_status_id gender income_type  debt  total_income  \\\n",
       "0   женат / замужем                 0      F   сотрудник     0        253875   \n",
       "1   женат / замужем                 0      F   сотрудник     0        112080   \n",
       "2   женат / замужем                 0      M   сотрудник     0        145885   \n",
       "3   женат / замужем                 0      M   сотрудник     0        267628   \n",
       "4  гражданский брак                 1      F   пенсионер     0        158616   \n",
       "\n",
       "                      purpose  \n",
       "0               покупка жилья  \n",
       "1     приобретение автомобиля  \n",
       "2               покупка жилья  \n",
       "3  дополнительное образование  \n",
       "4             сыграть свадьбу  "
      ]
     },
     "execution_count": 6,
     "metadata": {},
     "output_type": "execute_result"
    }
   ],
   "source": [
    "# заменим вещественный тип данных на целочисленный:\n",
    "df['days_employed'] = df['days_employed'].astype('int64')\n",
    "df['total_income'] = df['total_income'].astype('int64')\n",
    "df.head()"
   ]
  },
  {
   "cell_type": "markdown",
   "metadata": {},
   "source": [
    "### Вывод"
   ]
  },
  {
   "cell_type": "markdown",
   "metadata": {},
   "source": [
    "Перевод значений в целочисленный тип выполнили методом astype(), т.к. начальный тип значений был float24. Если бы имелись строковые значения, то применили бы метод pd.to_numeric(). Значения 'dob_years' перевели в целочисленный вид выше, в разделе \"Обработка пропусков\"."
   ]
  },
  {
   "cell_type": "markdown",
   "metadata": {},
   "source": [
    "### Обработка (смысловых) дубликатов"
   ]
  },
  {
   "cell_type": "code",
   "execution_count": 7,
   "metadata": {},
   "outputs": [
    {
     "data": {
      "text/plain": [
       "свадьба                                   792\n",
       "на проведение свадьбы                     769\n",
       "сыграть свадьбу                           765\n",
       "операции с недвижимостью                  674\n",
       "покупка коммерческой недвижимости         659\n",
       "покупка жилья для сдачи                   651\n",
       "операции с жильем                         648\n",
       "операции с коммерческой недвижимостью     646\n",
       "покупка жилья                             643\n",
       "жилье                                     642\n",
       "покупка жилья для семьи                   637\n",
       "недвижимость                              632\n",
       "строительство собственной недвижимости    629\n",
       "операции со своей недвижимостью           626\n",
       "строительство жилой недвижимости          624\n",
       "покупка своего жилья                      620\n",
       "строительство недвижимости                619\n",
       "покупка недвижимости                      618\n",
       "ремонт жилью                              605\n",
       "покупка жилой недвижимости                604\n",
       "на покупку своего автомобиля              505\n",
       "заняться высшим образованием              496\n",
       "автомобиль                                493\n",
       "сделка с подержанным автомобилем          482\n",
       "автомобили                                477\n",
       "свой автомобиль                           476\n",
       "на покупку подержанного автомобиля        472\n",
       "на покупку автомобиля                     471\n",
       "приобретение автомобиля                   461\n",
       "дополнительное образование                457\n",
       "сделка с автомобилем                      455\n",
       "высшее образование                        447\n",
       "получение дополнительного образования     446\n",
       "образование                               445\n",
       "получение образования                     441\n",
       "профильное образование                    434\n",
       "получение высшего образования             425\n",
       "заняться образованием                     408\n",
       "Name: purpose, dtype: int64"
      ]
     },
     "execution_count": 7,
     "metadata": {},
     "output_type": "execute_result"
    }
   ],
   "source": [
    "# переведем значениия 'education' в нижний регистр:\n",
    "df['education'] = df['education'].str.lower()\n",
    "# проверим 'education' на наличие смысловых дупликатов:\n",
    "#df['education'].value_counts()\n",
    "# смысловых дупликатов в 'education' не обнаружено.\n",
    "\n",
    "# переведем значениия 'family_status' в нижний регистр:\n",
    "df['family_status'] = df['family_status'].str.lower()\n",
    "# проверим 'family_status' на наличие смысловых дупликатов:\n",
    "#df['family_status'].value_counts()\n",
    "# смысловых дупликатов в 'family_status' не обнаружено.\n",
    "\n",
    "# переведем значениия 'gender' в нижний регистр:\n",
    "df['gender'] = df['gender'].str.lower()\n",
    "# проверим 'gender' на наличие смысловых дупликатов:\n",
    "df['gender'].value_counts()\n",
    "# смысловых дупликатов в 'gender' не обнаружено.\n",
    "\n",
    "# переведем значениия 'income_type' в нижний регистр:\n",
    "df['income_type'] = df['income_type'].str.lower()\n",
    "# проверим 'income_type' на наличие смысловых дупликатов:\n",
    "#df['income_type'].value_counts()\n",
    "# смысловых дупликатов в 'income_type' не обнаружено.\n",
    "\n",
    "# переведем значения 'purpose' в нижний регистр:\n",
    "df['purpose'] = df['purpose'].str.lower()\n",
    "# проверим 'purpose' на наличие смысловых дупликатов:\n",
    "df['purpose'].value_counts()\n",
    "# в 'purpose' обнаружено множество смысловых дупликатов."
   ]
  },
  {
   "cell_type": "markdown",
   "metadata": {},
   "source": [
    "### Вывод"
   ]
  },
  {
   "cell_type": "markdown",
   "metadata": {},
   "source": [
    "От дупликатов строк избавились выше, в разделе 1а. Смысловые дупликаты обработаем методом лемматизации в следующем разделе."
   ]
  },
  {
   "cell_type": "markdown",
   "metadata": {},
   "source": [
    "### Лемматизация"
   ]
  },
  {
   "cell_type": "code",
   "execution_count": 8,
   "metadata": {},
   "outputs": [
    {
     "data": {
      "text/html": [
       "<div>\n",
       "<style scoped>\n",
       "    .dataframe tbody tr th:only-of-type {\n",
       "        vertical-align: middle;\n",
       "    }\n",
       "\n",
       "    .dataframe tbody tr th {\n",
       "        vertical-align: top;\n",
       "    }\n",
       "\n",
       "    .dataframe thead th {\n",
       "        text-align: right;\n",
       "    }\n",
       "</style>\n",
       "<table border=\"1\" class=\"dataframe\">\n",
       "  <thead>\n",
       "    <tr style=\"text-align: right;\">\n",
       "      <th></th>\n",
       "      <th>children</th>\n",
       "      <th>days_employed</th>\n",
       "      <th>dob_years</th>\n",
       "      <th>education</th>\n",
       "      <th>education_id</th>\n",
       "      <th>family_status</th>\n",
       "      <th>family_status_id</th>\n",
       "      <th>gender</th>\n",
       "      <th>income_type</th>\n",
       "      <th>debt</th>\n",
       "      <th>total_income</th>\n",
       "      <th>purpose</th>\n",
       "      <th>purpose_category</th>\n",
       "    </tr>\n",
       "  </thead>\n",
       "  <tbody>\n",
       "    <tr>\n",
       "      <td>0</td>\n",
       "      <td>1</td>\n",
       "      <td>8437</td>\n",
       "      <td>42</td>\n",
       "      <td>высшее</td>\n",
       "      <td>0</td>\n",
       "      <td>женат / замужем</td>\n",
       "      <td>0</td>\n",
       "      <td>f</td>\n",
       "      <td>сотрудник</td>\n",
       "      <td>0</td>\n",
       "      <td>253875</td>\n",
       "      <td>покупка жилья</td>\n",
       "      <td>недвижимость</td>\n",
       "    </tr>\n",
       "    <tr>\n",
       "      <td>1</td>\n",
       "      <td>1</td>\n",
       "      <td>4024</td>\n",
       "      <td>36</td>\n",
       "      <td>среднее</td>\n",
       "      <td>1</td>\n",
       "      <td>женат / замужем</td>\n",
       "      <td>0</td>\n",
       "      <td>f</td>\n",
       "      <td>сотрудник</td>\n",
       "      <td>0</td>\n",
       "      <td>112080</td>\n",
       "      <td>приобретение автомобиля</td>\n",
       "      <td>автомобиль</td>\n",
       "    </tr>\n",
       "    <tr>\n",
       "      <td>2</td>\n",
       "      <td>0</td>\n",
       "      <td>5623</td>\n",
       "      <td>33</td>\n",
       "      <td>среднее</td>\n",
       "      <td>1</td>\n",
       "      <td>женат / замужем</td>\n",
       "      <td>0</td>\n",
       "      <td>m</td>\n",
       "      <td>сотрудник</td>\n",
       "      <td>0</td>\n",
       "      <td>145885</td>\n",
       "      <td>покупка жилья</td>\n",
       "      <td>недвижимость</td>\n",
       "    </tr>\n",
       "    <tr>\n",
       "      <td>3</td>\n",
       "      <td>3</td>\n",
       "      <td>4124</td>\n",
       "      <td>32</td>\n",
       "      <td>среднее</td>\n",
       "      <td>1</td>\n",
       "      <td>женат / замужем</td>\n",
       "      <td>0</td>\n",
       "      <td>m</td>\n",
       "      <td>сотрудник</td>\n",
       "      <td>0</td>\n",
       "      <td>267628</td>\n",
       "      <td>дополнительное образование</td>\n",
       "      <td>образование</td>\n",
       "    </tr>\n",
       "    <tr>\n",
       "      <td>4</td>\n",
       "      <td>0</td>\n",
       "      <td>2184</td>\n",
       "      <td>53</td>\n",
       "      <td>среднее</td>\n",
       "      <td>1</td>\n",
       "      <td>гражданский брак</td>\n",
       "      <td>1</td>\n",
       "      <td>f</td>\n",
       "      <td>пенсионер</td>\n",
       "      <td>0</td>\n",
       "      <td>158616</td>\n",
       "      <td>сыграть свадьбу</td>\n",
       "      <td>свадьба</td>\n",
       "    </tr>\n",
       "  </tbody>\n",
       "</table>\n",
       "</div>"
      ],
      "text/plain": [
       "   children  days_employed  dob_years education  education_id  \\\n",
       "0         1           8437         42    высшее             0   \n",
       "1         1           4024         36   среднее             1   \n",
       "2         0           5623         33   среднее             1   \n",
       "3         3           4124         32   среднее             1   \n",
       "4         0           2184         53   среднее             1   \n",
       "\n",
       "      family_status  family_status_id gender income_type  debt  total_income  \\\n",
       "0   женат / замужем                 0      f   сотрудник     0        253875   \n",
       "1   женат / замужем                 0      f   сотрудник     0        112080   \n",
       "2   женат / замужем                 0      m   сотрудник     0        145885   \n",
       "3   женат / замужем                 0      m   сотрудник     0        267628   \n",
       "4  гражданский брак                 1      f   пенсионер     0        158616   \n",
       "\n",
       "                      purpose purpose_category  \n",
       "0               покупка жилья     недвижимость  \n",
       "1     приобретение автомобиля       автомобиль  \n",
       "2               покупка жилья     недвижимость  \n",
       "3  дополнительное образование      образование  \n",
       "4             сыграть свадьбу          свадьба  "
      ]
     },
     "execution_count": 8,
     "metadata": {},
     "output_type": "execute_result"
    }
   ],
   "source": [
    "from pymystem3 import Mystem\n",
    "m = Mystem()\n",
    "\n",
    "def fl(text):\n",
    "    lemma = m.lemmatize(text)\n",
    "    if 'свадьба' in lemma:\n",
    "        return 'свадьба'\n",
    "    elif 'жилье' in lemma:\n",
    "        return 'недвижимость'\n",
    "    elif 'недвижимость' in lemma:\n",
    "        return 'недвижимость'\n",
    "    elif 'автомобиль' in lemma:\n",
    "        return 'автомобиль'\n",
    "    elif 'образование' in lemma:\n",
    "        return 'образование'\n",
    "    else:\n",
    "        return 'другое'\n",
    "df['purpose_category']=df['purpose'].apply(fl)\n",
    "df['purpose_category'].value_counts()\n",
    "df.head()"
   ]
  },
  {
   "cell_type": "markdown",
   "metadata": {},
   "source": [
    "### Вывод"
   ]
  },
  {
   "cell_type": "markdown",
   "metadata": {},
   "source": [
    "Для удаления смысловых дупликатов, обнаруженных ранее в 'purpose', мы воспользовались методом лемматизации. Для этого создали функцию fl с аргументом text и применили её методом apply() к столбцу 'purpose'.\n",
    "Примечание: В 1-й версии работы леммитазацию сделал через циклы. Тоже работало. Но так лучше."
   ]
  },
  {
   "cell_type": "markdown",
   "metadata": {},
   "source": [
    "### Категоризация данных"
   ]
  },
  {
   "cell_type": "code",
   "execution_count": 9,
   "metadata": {},
   "outputs": [
    {
     "data": {
      "text/html": [
       "<div>\n",
       "<style scoped>\n",
       "    .dataframe tbody tr th:only-of-type {\n",
       "        vertical-align: middle;\n",
       "    }\n",
       "\n",
       "    .dataframe tbody tr th {\n",
       "        vertical-align: top;\n",
       "    }\n",
       "\n",
       "    .dataframe thead th {\n",
       "        text-align: right;\n",
       "    }\n",
       "</style>\n",
       "<table border=\"1\" class=\"dataframe\">\n",
       "  <thead>\n",
       "    <tr style=\"text-align: right;\">\n",
       "      <th></th>\n",
       "      <th>children_status</th>\n",
       "      <th>family_status</th>\n",
       "      <th>income_range</th>\n",
       "      <th>purpose_category</th>\n",
       "      <th>debt</th>\n",
       "    </tr>\n",
       "  </thead>\n",
       "  <tbody>\n",
       "    <tr>\n",
       "      <td>0</td>\n",
       "      <td>1-2 ребенка</td>\n",
       "      <td>женат / замужем</td>\n",
       "      <td>(209291, 265758)</td>\n",
       "      <td>недвижимость</td>\n",
       "      <td>0</td>\n",
       "    </tr>\n",
       "    <tr>\n",
       "      <td>1</td>\n",
       "      <td>1-2 ребенка</td>\n",
       "      <td>женат / замужем</td>\n",
       "      <td>(87536, 114055)</td>\n",
       "      <td>автомобиль</td>\n",
       "      <td>0</td>\n",
       "    </tr>\n",
       "    <tr>\n",
       "      <td>2</td>\n",
       "      <td>нет детей</td>\n",
       "      <td>женат / замужем</td>\n",
       "      <td>(138137, 151134)</td>\n",
       "      <td>недвижимость</td>\n",
       "      <td>0</td>\n",
       "    </tr>\n",
       "    <tr>\n",
       "      <td>3</td>\n",
       "      <td>3 или более</td>\n",
       "      <td>женат / замужем</td>\n",
       "      <td>(265758, 2265604)</td>\n",
       "      <td>образование</td>\n",
       "      <td>0</td>\n",
       "    </tr>\n",
       "    <tr>\n",
       "      <td>4</td>\n",
       "      <td>нет детей</td>\n",
       "      <td>гражданский брак</td>\n",
       "      <td>(151134, 174631)</td>\n",
       "      <td>свадьба</td>\n",
       "      <td>0</td>\n",
       "    </tr>\n",
       "    <tr>\n",
       "      <td>5</td>\n",
       "      <td>нет детей</td>\n",
       "      <td>гражданский брак</td>\n",
       "      <td>(209291, 265758)</td>\n",
       "      <td>недвижимость</td>\n",
       "      <td>0</td>\n",
       "    </tr>\n",
       "    <tr>\n",
       "      <td>6</td>\n",
       "      <td>нет детей</td>\n",
       "      <td>женат / замужем</td>\n",
       "      <td>(209291, 265758)</td>\n",
       "      <td>недвижимость</td>\n",
       "      <td>0</td>\n",
       "    </tr>\n",
       "    <tr>\n",
       "      <td>7</td>\n",
       "      <td>нет детей</td>\n",
       "      <td>женат / замужем</td>\n",
       "      <td>(114055, 138137)</td>\n",
       "      <td>образование</td>\n",
       "      <td>0</td>\n",
       "    </tr>\n",
       "    <tr>\n",
       "      <td>8</td>\n",
       "      <td>1-2 ребенка</td>\n",
       "      <td>гражданский брак</td>\n",
       "      <td>(87536, 114055)</td>\n",
       "      <td>свадьба</td>\n",
       "      <td>0</td>\n",
       "    </tr>\n",
       "    <tr>\n",
       "      <td>9</td>\n",
       "      <td>нет детей</td>\n",
       "      <td>женат / замужем</td>\n",
       "      <td>(138137, 151134)</td>\n",
       "      <td>недвижимость</td>\n",
       "      <td>0</td>\n",
       "    </tr>\n",
       "  </tbody>\n",
       "</table>\n",
       "</div>"
      ],
      "text/plain": [
       "  children_status     family_status       income_range purpose_category  debt\n",
       "0     1-2 ребенка   женат / замужем   (209291, 265758)     недвижимость     0\n",
       "1     1-2 ребенка   женат / замужем    (87536, 114055)       автомобиль     0\n",
       "2       нет детей   женат / замужем   (138137, 151134)     недвижимость     0\n",
       "3     3 или более   женат / замужем  (265758, 2265604)      образование     0\n",
       "4       нет детей  гражданский брак   (151134, 174631)          свадьба     0\n",
       "5       нет детей  гражданский брак   (209291, 265758)     недвижимость     0\n",
       "6       нет детей   женат / замужем   (209291, 265758)     недвижимость     0\n",
       "7       нет детей   женат / замужем   (114055, 138137)      образование     0\n",
       "8     1-2 ребенка  гражданский брак    (87536, 114055)          свадьба     0\n",
       "9       нет детей   женат / замужем   (138137, 151134)     недвижимость     0"
      ]
     },
     "execution_count": 9,
     "metadata": {},
     "output_type": "execute_result"
    }
   ],
   "source": [
    "# введем классификацию по количеству детей в семье:\n",
    "def children_status (children):\n",
    "    if children == 0:\n",
    "        return 'нет детей'\n",
    "    if children >= 3:\n",
    "        return '3 или более'\n",
    "    return '1-2 ребенка'\n",
    "\n",
    "# введем классификацию по уровню дохода - 8 медианных группы:\n",
    "max = df['total_income'].max()\n",
    "min = df['total_income'].min()\n",
    "med = df['total_income'].median().astype('int64')\n",
    "med1 = df[df['total_income']<=med]['total_income'].median().astype('int64')\n",
    "med1a = df[df['total_income']<=med1]['total_income'].median().astype('int64')\n",
    "med1b = df[(df['total_income']>med1)&(df['total_income']<=med)]['total_income'].median().astype('int64')\n",
    "med2 = df[df['total_income']>med]['total_income'].median().astype('int64')\n",
    "med2a = df[(df['total_income']>med)&(df['total_income']<=med2)]['total_income'].median().astype('int64')\n",
    "med2b = df[df['total_income']>med2]['total_income'].median().astype('int64')\n",
    "def income_range (income):\n",
    "    if income < med1a:\n",
    "        return (min,med1a)\n",
    "    elif income < med1:\n",
    "        return (med1a,med1)\n",
    "    elif income < med1b:\n",
    "        return (med1,med1b)\n",
    "    elif income < med:\n",
    "        return (med1b,med)\n",
    "    elif income < med2a:\n",
    "        return (med,med2a)\n",
    "    elif income < med2:\n",
    "        return (med2a,med2)\n",
    "    elif income < med2b:\n",
    "        return (med2,med2b)\n",
    "    return (med2b,max)\n",
    "\n",
    "# добавим столбцы в таблицу df:\n",
    "df['children_status'] = df['children'].apply(children_status)\n",
    "df['income_range'] = df['total_income'].apply(income_range)\n",
    "\n",
    "# поменяем порядок столбцов в таблице:\n",
    "titles = ['children_status','family_status','income_range','purpose_category','debt']\n",
    "df1 = df.reindex(columns=titles)\n",
    "df1.head(10)"
   ]
  },
  {
   "cell_type": "markdown",
   "metadata": {},
   "source": [
    "### Вывод"
   ]
  },
  {
   "cell_type": "markdown",
   "metadata": {},
   "source": [
    "- Провели классификацию по количеству детей в семье - \"нет детей\", \"1-2 ребенка, \"3 или более\".\n",
    "- По признаку семейного положения категории представлены вполне логично, поэтому классификацию проводить не стали.\n",
    "- Уровень дохода классифицировали по 8-и медианным категориям.\n",
    "- Категории цели кредита были введены на этапе лемматизации.\n",
    "- Для удобства дальнейшей работы убрали ненужные более столбцы и поменяли оставшиеся столбцы местами. Получили таблицу df1. С ней и будем работать далее."
   ]
  },
  {
   "cell_type": "markdown",
   "metadata": {},
   "source": [
    "### Шаг 3. Ответьте на вопросы"
   ]
  },
  {
   "cell_type": "markdown",
   "metadata": {},
   "source": [
    "- Есть ли зависимость между наличием детей и возвратом кредита в срок?"
   ]
  },
  {
   "cell_type": "code",
   "execution_count": 10,
   "metadata": {},
   "outputs": [
    {
     "data": {
      "text/html": [
       "<div>\n",
       "<style scoped>\n",
       "    .dataframe tbody tr th:only-of-type {\n",
       "        vertical-align: middle;\n",
       "    }\n",
       "\n",
       "    .dataframe tbody tr th {\n",
       "        vertical-align: top;\n",
       "    }\n",
       "\n",
       "    .dataframe thead th {\n",
       "        text-align: right;\n",
       "    }\n",
       "</style>\n",
       "<table border=\"1\" class=\"dataframe\">\n",
       "  <thead>\n",
       "    <tr style=\"text-align: right;\">\n",
       "      <th></th>\n",
       "      <th>children_status</th>\n",
       "      <th>debtors_%</th>\n",
       "      <th>clients_%</th>\n",
       "      <th>criteria_%</th>\n",
       "    </tr>\n",
       "  </thead>\n",
       "  <tbody>\n",
       "    <tr>\n",
       "      <td>0</td>\n",
       "      <td>1-2 ребенка</td>\n",
       "      <td>37.0</td>\n",
       "      <td>32.0</td>\n",
       "      <td>-5.0</td>\n",
       "    </tr>\n",
       "    <tr>\n",
       "      <td>2</td>\n",
       "      <td>3 или более</td>\n",
       "      <td>2.0</td>\n",
       "      <td>2.0</td>\n",
       "      <td>-0.0</td>\n",
       "    </tr>\n",
       "    <tr>\n",
       "      <td>1</td>\n",
       "      <td>нет детей</td>\n",
       "      <td>61.0</td>\n",
       "      <td>66.0</td>\n",
       "      <td>5.0</td>\n",
       "    </tr>\n",
       "  </tbody>\n",
       "</table>\n",
       "</div>"
      ],
      "text/plain": [
       "  children_status  debtors_%  clients_%  criteria_%\n",
       "0     1-2 ребенка       37.0       32.0        -5.0\n",
       "2     3 или более        2.0        2.0        -0.0\n",
       "1       нет детей       61.0       66.0         5.0"
      ]
     },
     "execution_count": 10,
     "metadata": {},
     "output_type": "execute_result"
    }
   ],
   "source": [
    "# здесь и далее критерием будем считать разность долей от общего числа клиентов и от общего числа должников.\n",
    "# чем меньше критерий, тем меньше благонадежность.\n",
    "\n",
    "# общее количество должников:\n",
    "debt_ttl = df1[df1['debt'] == 1]['debt'].count()\n",
    "\n",
    "# зависимость между наличием детей и невозвратом кредита в срок: \n",
    "\n",
    "columns1 = ['children_status','debtors_%','clients_%', 'criteria_%']\n",
    "data1 = []\n",
    "cs_list = df1['children_status'].unique() #список категорий возраста детей\n",
    "for i in cs_list:\n",
    "    cs = df1[df1['children_status'] == i]['children_status'].count()/len(df1)*100\n",
    "    cs_d = df1[(df1['children_status'] == i) & (df1['debt'] == 1)]['debt'].count()/debt_ttl*100\n",
    "    cs_x = cs-cs_d\n",
    "    line1 = [i,cs_d,cs, cs_x]\n",
    "    data1.append(line1)\n",
    "table1 = pd.DataFrame(data = data1, columns=columns1)\n",
    "table1=table1.round(0)\n",
    "table1.sort_values('criteria_%')\n"
   ]
  },
  {
   "cell_type": "markdown",
   "metadata": {},
   "source": [
    "### Вывод"
   ]
  },
  {
   "cell_type": "markdown",
   "metadata": {},
   "source": [
    "Наименее благонадежны заемщики, имеющие 1-2 ребенка."
   ]
  },
  {
   "cell_type": "markdown",
   "metadata": {},
   "source": [
    "- Есть ли зависимость между семейным положением и возвратом кредита в срок?"
   ]
  },
  {
   "cell_type": "code",
   "execution_count": 11,
   "metadata": {},
   "outputs": [
    {
     "data": {
      "text/html": [
       "<div>\n",
       "<style scoped>\n",
       "    .dataframe tbody tr th:only-of-type {\n",
       "        vertical-align: middle;\n",
       "    }\n",
       "\n",
       "    .dataframe tbody tr th {\n",
       "        vertical-align: top;\n",
       "    }\n",
       "\n",
       "    .dataframe thead th {\n",
       "        text-align: right;\n",
       "    }\n",
       "</style>\n",
       "<table border=\"1\" class=\"dataframe\">\n",
       "  <thead>\n",
       "    <tr style=\"text-align: right;\">\n",
       "      <th></th>\n",
       "      <th>family_status</th>\n",
       "      <th>debtors_%</th>\n",
       "      <th>clients_%</th>\n",
       "      <th>criteria_%</th>\n",
       "    </tr>\n",
       "  </thead>\n",
       "  <tbody>\n",
       "    <tr>\n",
       "      <td>1</td>\n",
       "      <td>гражданский брак</td>\n",
       "      <td>22.0</td>\n",
       "      <td>19.0</td>\n",
       "      <td>-3.0</td>\n",
       "    </tr>\n",
       "    <tr>\n",
       "      <td>4</td>\n",
       "      <td>не женат / не замужем</td>\n",
       "      <td>16.0</td>\n",
       "      <td>13.0</td>\n",
       "      <td>-3.0</td>\n",
       "    </tr>\n",
       "    <tr>\n",
       "      <td>2</td>\n",
       "      <td>вдовец / вдова</td>\n",
       "      <td>4.0</td>\n",
       "      <td>4.0</td>\n",
       "      <td>1.0</td>\n",
       "    </tr>\n",
       "    <tr>\n",
       "      <td>3</td>\n",
       "      <td>в разводе</td>\n",
       "      <td>5.0</td>\n",
       "      <td>6.0</td>\n",
       "      <td>1.0</td>\n",
       "    </tr>\n",
       "    <tr>\n",
       "      <td>0</td>\n",
       "      <td>женат / замужем</td>\n",
       "      <td>54.0</td>\n",
       "      <td>57.0</td>\n",
       "      <td>4.0</td>\n",
       "    </tr>\n",
       "  </tbody>\n",
       "</table>\n",
       "</div>"
      ],
      "text/plain": [
       "           family_status  debtors_%  clients_%  criteria_%\n",
       "1       гражданский брак       22.0       19.0        -3.0\n",
       "4  не женат / не замужем       16.0       13.0        -3.0\n",
       "2         вдовец / вдова        4.0        4.0         1.0\n",
       "3              в разводе        5.0        6.0         1.0\n",
       "0        женат / замужем       54.0       57.0         4.0"
      ]
     },
     "execution_count": 11,
     "metadata": {},
     "output_type": "execute_result"
    }
   ],
   "source": [
    "columns2 = ['family_status','debtors_%','clients_%', 'criteria_%']\n",
    "data2 = []\n",
    "fs_list = df1['family_status'].unique() #список категорий семейного положения\n",
    "for i in fs_list:\n",
    "    fs = df1[df1['family_status'] == i]['family_status'].count()/len(df1)*100\n",
    "    fs_d = df1[(df1['family_status'] == i) & (df1['debt'] == 1)]['debt'].count()/debt_ttl*100\n",
    "    fs_x = fs-fs_d\n",
    "    line2 = [i,fs_d,fs,fs_x]\n",
    "    data2.append(line2)\n",
    "table2 = pd.DataFrame(data = data2, columns=columns2)\n",
    "table2 = table2.round(0)\n",
    "table2.sort_values('criteria_%')"
   ]
  },
  {
   "cell_type": "markdown",
   "metadata": {},
   "source": [
    "### Вывод"
   ]
  },
  {
   "cell_type": "markdown",
   "metadata": {},
   "source": [
    "Наименее благонадежны неженатые/незамужние заемщики и состоящие в гражданском браке."
   ]
  },
  {
   "cell_type": "markdown",
   "metadata": {},
   "source": [
    "- Есть ли зависимость между уровнем дохода и возвратом кредита в срок?"
   ]
  },
  {
   "cell_type": "code",
   "execution_count": 12,
   "metadata": {},
   "outputs": [
    {
     "data": {
      "text/html": [
       "<div>\n",
       "<style scoped>\n",
       "    .dataframe tbody tr th:only-of-type {\n",
       "        vertical-align: middle;\n",
       "    }\n",
       "\n",
       "    .dataframe tbody tr th {\n",
       "        vertical-align: top;\n",
       "    }\n",
       "\n",
       "    .dataframe thead th {\n",
       "        text-align: right;\n",
       "    }\n",
       "</style>\n",
       "<table border=\"1\" class=\"dataframe\">\n",
       "  <thead>\n",
       "    <tr style=\"text-align: right;\">\n",
       "      <th></th>\n",
       "      <th>income_range</th>\n",
       "      <th>debtors_%</th>\n",
       "      <th>clients_%</th>\n",
       "      <th>criteria_%</th>\n",
       "    </tr>\n",
       "  </thead>\n",
       "  <tbody>\n",
       "    <tr>\n",
       "      <td>1</td>\n",
       "      <td>(87536, 114055)</td>\n",
       "      <td>15.0</td>\n",
       "      <td>14.0</td>\n",
       "      <td>-1.0</td>\n",
       "    </tr>\n",
       "    <tr>\n",
       "      <td>2</td>\n",
       "      <td>(138137, 151134)</td>\n",
       "      <td>7.0</td>\n",
       "      <td>6.0</td>\n",
       "      <td>-1.0</td>\n",
       "    </tr>\n",
       "    <tr>\n",
       "      <td>4</td>\n",
       "      <td>(151134, 174631)</td>\n",
       "      <td>19.0</td>\n",
       "      <td>19.0</td>\n",
       "      <td>-1.0</td>\n",
       "    </tr>\n",
       "    <tr>\n",
       "      <td>5</td>\n",
       "      <td>(114055, 138137)</td>\n",
       "      <td>15.0</td>\n",
       "      <td>14.0</td>\n",
       "      <td>-1.0</td>\n",
       "    </tr>\n",
       "    <tr>\n",
       "      <td>7</td>\n",
       "      <td>(174631, 209291)</td>\n",
       "      <td>11.0</td>\n",
       "      <td>11.0</td>\n",
       "      <td>-0.0</td>\n",
       "    </tr>\n",
       "    <tr>\n",
       "      <td>0</td>\n",
       "      <td>(209291, 265758)</td>\n",
       "      <td>9.0</td>\n",
       "      <td>11.0</td>\n",
       "      <td>1.0</td>\n",
       "    </tr>\n",
       "    <tr>\n",
       "      <td>6</td>\n",
       "      <td>(20667, 87536)</td>\n",
       "      <td>14.0</td>\n",
       "      <td>14.0</td>\n",
       "      <td>1.0</td>\n",
       "    </tr>\n",
       "    <tr>\n",
       "      <td>3</td>\n",
       "      <td>(265758, 2265604)</td>\n",
       "      <td>9.0</td>\n",
       "      <td>11.0</td>\n",
       "      <td>2.0</td>\n",
       "    </tr>\n",
       "  </tbody>\n",
       "</table>\n",
       "</div>"
      ],
      "text/plain": [
       "        income_range  debtors_%  clients_%  criteria_%\n",
       "1    (87536, 114055)       15.0       14.0        -1.0\n",
       "2   (138137, 151134)        7.0        6.0        -1.0\n",
       "4   (151134, 174631)       19.0       19.0        -1.0\n",
       "5   (114055, 138137)       15.0       14.0        -1.0\n",
       "7   (174631, 209291)       11.0       11.0        -0.0\n",
       "0   (209291, 265758)        9.0       11.0         1.0\n",
       "6     (20667, 87536)       14.0       14.0         1.0\n",
       "3  (265758, 2265604)        9.0       11.0         2.0"
      ]
     },
     "execution_count": 12,
     "metadata": {},
     "output_type": "execute_result"
    }
   ],
   "source": [
    "columns3 = ['income_range','debtors_%','clients_%', 'criteria_%']\n",
    "data3 = []\n",
    "ir_list = df1['income_range'].unique() #список категорий уровня дохода\n",
    "for i in ir_list:\n",
    "    ir = df1[df1['income_range'] == i]['income_range'].count()/len(df1)*100\n",
    "    ir_d = df1[(df1['income_range'] == i) & (df1['debt'] == 1)]['income_range'].count()/debt_ttl*100\n",
    "    ir_x = ir - ir_d\n",
    "    line3 = [i,ir_d,ir,ir_x]\n",
    "    data3.append(line3)\n",
    "table3 = pd.DataFrame(data = data3, columns=columns3)\n",
    "table3 = table3.round(0)\n",
    "table3.sort_values('criteria_%')"
   ]
  },
  {
   "cell_type": "markdown",
   "metadata": {},
   "source": [
    "### Вывод"
   ]
  },
  {
   "cell_type": "markdown",
   "metadata": {},
   "source": [
    "Наименее благонадежны заемщики с уровнем дохода 88-175 т.р., но значение критерия незначительно."
   ]
  },
  {
   "cell_type": "markdown",
   "metadata": {},
   "source": [
    "- Как разные цели кредита влияют на его возврат в срок?"
   ]
  },
  {
   "cell_type": "code",
   "execution_count": 13,
   "metadata": {},
   "outputs": [
    {
     "data": {
      "text/html": [
       "<div>\n",
       "<style scoped>\n",
       "    .dataframe tbody tr th:only-of-type {\n",
       "        vertical-align: middle;\n",
       "    }\n",
       "\n",
       "    .dataframe tbody tr th {\n",
       "        vertical-align: top;\n",
       "    }\n",
       "\n",
       "    .dataframe thead th {\n",
       "        text-align: right;\n",
       "    }\n",
       "</style>\n",
       "<table border=\"1\" class=\"dataframe\">\n",
       "  <thead>\n",
       "    <tr style=\"text-align: right;\">\n",
       "      <th></th>\n",
       "      <th>purpose_category</th>\n",
       "      <th>debtors_%</th>\n",
       "      <th>clients_%</th>\n",
       "      <th>criteria_%</th>\n",
       "    </tr>\n",
       "  </thead>\n",
       "  <tbody>\n",
       "    <tr>\n",
       "      <td>1</td>\n",
       "      <td>автомобиль</td>\n",
       "      <td>23.0</td>\n",
       "      <td>20.0</td>\n",
       "      <td>-3.0</td>\n",
       "    </tr>\n",
       "    <tr>\n",
       "      <td>2</td>\n",
       "      <td>образование</td>\n",
       "      <td>21.0</td>\n",
       "      <td>19.0</td>\n",
       "      <td>-3.0</td>\n",
       "    </tr>\n",
       "    <tr>\n",
       "      <td>3</td>\n",
       "      <td>свадьба</td>\n",
       "      <td>11.0</td>\n",
       "      <td>11.0</td>\n",
       "      <td>0.0</td>\n",
       "    </tr>\n",
       "    <tr>\n",
       "      <td>0</td>\n",
       "      <td>недвижимость</td>\n",
       "      <td>45.0</td>\n",
       "      <td>50.0</td>\n",
       "      <td>5.0</td>\n",
       "    </tr>\n",
       "  </tbody>\n",
       "</table>\n",
       "</div>"
      ],
      "text/plain": [
       "  purpose_category  debtors_%  clients_%  criteria_%\n",
       "1       автомобиль       23.0       20.0        -3.0\n",
       "2      образование       21.0       19.0        -3.0\n",
       "3          свадьба       11.0       11.0         0.0\n",
       "0     недвижимость       45.0       50.0         5.0"
      ]
     },
     "execution_count": 13,
     "metadata": {},
     "output_type": "execute_result"
    }
   ],
   "source": [
    "columns4 = ['purpose_category','debtors_%','clients_%','criteria_%']\n",
    "data4 = []\n",
    "pc_list = df1['purpose_category'].unique() #список категорий цели кредита\n",
    "for i in pc_list:\n",
    "    pc = df1[df1['purpose_category'] == i]['purpose_category'].count()/len(df1)*100\n",
    "    pc_d = df1[(df1['purpose_category'] == i) & (df1['debt'] == 1)]['purpose_category'].count()/debt_ttl*100\n",
    "    pc_x = pc-pc_d\n",
    "    line4 = [i,pc_d,pc,pc_x]\n",
    "    data4.append(line4)\n",
    "table4 = pd.DataFrame(data = data4, columns=columns4)\n",
    "table4=table4.round(0)\n",
    "table4.sort_values('criteria_%')"
   ]
  },
  {
   "cell_type": "markdown",
   "metadata": {},
   "source": [
    "### Вывод"
   ]
  },
  {
   "cell_type": "markdown",
   "metadata": {},
   "source": [
    "Наименее благонадежны заемщики, берущие кредит на покупку автомобиля, далее по степени риска идут лица, берущие кредит на образование."
   ]
  },
  {
   "cell_type": "markdown",
   "metadata": {},
   "source": [
    "### Шаг 4. Общий вывод"
   ]
  },
  {
   "cell_type": "markdown",
   "metadata": {},
   "source": [
    "Вывод о благонадежности делался путем сравнения доли определенной категории заемщиков в общем числе должников с долей этой категории от общего числа заемщиков.\n",
    "Сравнительно менее благонадежны следующие категории заемщиков (в скобках указана разность долей):\n",
    "- имеющие 1-2 ребенка (5%),\n",
    "- неженатые/незамужние заемщики, за исключением разведенных и вдовцов (3%), \n",
    "- состоящие в гражданском браке (3%),\n",
    "- с уровнем дохода 88-175 т.р. (1%),\n",
    "- берущие кредит на приобретение автомобиля (3%),\n",
    "- берущие кредит на образование (3%).\n",
    "\n",
    "Бросается в глаза незначительная зависимость вероятности невыплаты кредита в срок от уровня дохода заемщика. Это может быть связано с суммой кредита, предоставленного банком.\n"
   ]
  }
 ],
 "metadata": {
  "kernelspec": {
   "display_name": "Python 3",
   "language": "python",
   "name": "python3"
  },
  "language_info": {
   "codemirror_mode": {
    "name": "ipython",
    "version": 3
   },
   "file_extension": ".py",
   "mimetype": "text/x-python",
   "name": "python",
   "nbconvert_exporter": "python",
   "pygments_lexer": "ipython3",
   "version": "3.7.6"
  }
 },
 "nbformat": 4,
 "nbformat_minor": 2
}
